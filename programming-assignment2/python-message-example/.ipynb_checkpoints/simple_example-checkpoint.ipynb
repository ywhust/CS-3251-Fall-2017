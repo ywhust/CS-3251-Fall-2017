{
 "cells": [
  {
   "cell_type": "markdown",
   "metadata": {},
   "source": [
    "# How to \"Encode\" Message with Arbitrary Format\n",
    "\n",
    "The following gives you two solutions, of course they are not the only solutions. You could come up with your own solution if you would like to.\n",
    "\n",
    "\n",
    "## Solution 1: Using Struct\n",
    "\n",
    "For example, you are asked to encode a socket message in the following format: `msg length (1 byte) msg`, which contains two parts: The first one is `msg length`, and the second one is `msg`, whose length is given by `msg length`. You use [python struct](https://docs.python.org/2/library/struct.html) to achieve this goal as follows. "
   ]
  },
  {
   "cell_type": "code",
   "execution_count": 1,
   "metadata": {},
   "outputs": [
    {
     "name": "stdout",
     "output_type": "stream",
     "text": [
      "msg_length =  23\n",
      "row =  \u0017I am a simple example!!\n",
      "len(raw) =  24\n"
     ]
    }
   ],
   "source": [
    "import struct\n",
    "\n",
    "msg = 'I am a simple example!!'\n",
    "msg_length = len(msg)\n",
    "print \"msg_length = \", msg_length\n",
    "# here, 'B' is for unsigned char, s stands for char[], the number before it gives its length\n",
    "raw = struct.pack('B{}s'.format(msg_length), msg_length, msg)\n",
    "print \"row = \", raw\n",
    "print \"len(raw) = \", len(raw)"
   ]
  },
  {
   "cell_type": "markdown",
   "metadata": {},
   "source": [
    "Now you can send `raw` via socket. After the other side receives the `raw`, it can use unpack to decode the original message. Note that, it seems struct does not provide `uint8`, so in the example, I used `unsigned char`. But as explained in [Format Characters](https://docs.python.org/2/library/struct.html#format-characters), it will be converted to a `Python Integer` automatically."
   ]
  },
  {
   "cell_type": "code",
   "execution_count": 2,
   "metadata": {},
   "outputs": [
    {
     "name": "stdout",
     "output_type": "stream",
     "text": [
      "<type 'int'>\n",
      "23\n",
      "I am a simple example!!\n"
     ]
    }
   ],
   "source": [
    "msg_length = struct.unpack('B', raw[0])[0]\n",
    "print type(msg_length)\n",
    "print msg_length\n",
    "msg = struct.unpack('{}s'.format(msg_length), raw[1:])[0]\n",
    "print msg"
   ]
  },
  {
   "cell_type": "markdown",
   "metadata": {},
   "source": [
    "## Solution 2: Using `ascii`\n",
    "\n",
    "Please see the following example."
   ]
  },
  {
   "cell_type": "code",
   "execution_count": 3,
   "metadata": {},
   "outputs": [
    {
     "name": "stdout",
     "output_type": "stream",
     "text": [
      "new_message_length =  \u0016\n",
      "raw =  \u0016I am another example!!\n"
     ]
    }
   ],
   "source": [
    "new_msg = \"I am another example!!\"\n",
    "new_msg_length = chr(len(new_msg))\n",
    "print 'new_message_length = ', new_msg_length\n",
    "raw = new_msg_length + new_msg\n",
    "print 'raw = ', raw"
   ]
  },
  {
   "cell_type": "code",
   "execution_count": 4,
   "metadata": {},
   "outputs": [
    {
     "name": "stdout",
     "output_type": "stream",
     "text": [
      "msg_length =  22\n",
      "msg =  I am another example!\n"
     ]
    }
   ],
   "source": [
    "# Now, decode it.\n",
    "msg_length = ord(raw[0])\n",
    "msg = raw[1:msg_length]\n",
    "print \"msg_length = \", msg_length\n",
    "print \"msg = \", msg"
   ]
  }
 ],
 "metadata": {
  "kernelspec": {
   "display_name": "Python 2",
   "language": "python",
   "name": "python2"
  },
  "language_info": {
   "codemirror_mode": {
    "name": "ipython",
    "version": 2
   },
   "file_extension": ".py",
   "mimetype": "text/x-python",
   "name": "python",
   "nbconvert_exporter": "python",
   "pygments_lexer": "ipython2",
   "version": "2.7.13"
  }
 },
 "nbformat": 4,
 "nbformat_minor": 2
}
